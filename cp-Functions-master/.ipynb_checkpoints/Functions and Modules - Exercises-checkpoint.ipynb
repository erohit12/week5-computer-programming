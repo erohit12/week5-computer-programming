{
 "cells": [
  {
   "cell_type": "markdown",
   "metadata": {},
   "source": [
    "## Lab: Functions and Modules\n"
   ]
  },
  {
   "cell_type": "markdown",
   "metadata": {},
   "source": [
    "**Learning Objectives**\n",
    "* To write user-defined functions, given a specification.\n",
    "* To write Python code that creates a module from a set of functions, with that module then being used in a program.\n",
    "\n",
    "**General notes about the exercises**\n",
    "* You should attempt the exercises below by using *only* the Python constructs that you learnt up to the end of topic **Functions**.\n",
    "* Spend a few minutes before you write code, to think about how to structure your proposed solution.\n",
    "* Add comments to your code.\n",
    "* Make your code neat, by using indentation and parentheses (where appropriate).\n",
    "* Give meaningful names to functions and variables.\n",
    "* You may find it easier to do some of these exercises directly in the notebook. Feel free to insert text with your comments or write your notes as you proceed. The Jupyter Notebook is \"yours for keeps\"."
   ]
  },
  {
   "cell_type": "markdown",
   "metadata": {},
   "source": [
    "### 1 - Maximum of two"
   ]
  },
  {
   "cell_type": "markdown",
   "metadata": {},
   "source": [
    "Define a function ```max_of_two()``` that takes two numbers as arguments and returns the largest of them. Use the *if-then-else* construct available in Python. (**Note**: It is true that Python has the ```max()``` function built in, but writing it yourself is nevertheless a good exercise.)\n",
    "\n",
    "(Credits:  [Thorbjoern Lager](https://www.gu.se/english/about_the_university/staff/?languageId=100001&userId=xlagto))"
   ]
  },
  {
   "cell_type": "code",
   "execution_count": 8,
   "metadata": {},
   "outputs": [
    {
     "name": "stdout",
     "output_type": "stream",
     "text": [
      "Enter a number: 6\n",
      "Enter another number: 3\n",
      "The max of two Numbers is 6\n"
     ]
    }
   ],
   "source": [
    "def max_of_two(x, y):\n",
    "    if x > y:\n",
    "        return x\n",
    "    else:\n",
    "        return y\n",
    "\n",
    "def check_int(num):\n",
    "    while True:\n",
    "            try:\n",
    "                num = int(num)\n",
    "                break\n",
    "            except:\n",
    "                num = input(\"Enter the number (integer value only): \")\n",
    "    \n",
    "number1 = input(\"Enter a number: \")\n",
    "check_int(number1)\n",
    "number2 = input(\"Enter another number: \")\n",
    "check_int(number2)\n",
    "max = max_of_two(number1, number2)\n",
    "print(\"The max of two Numbers is\",max)\n"
   ]
  },
  {
   "cell_type": "markdown",
   "metadata": {},
   "source": [
    "### 2 - Maximum of three"
   ]
  },
  {
   "cell_type": "markdown",
   "metadata": {},
   "source": [
    "Define a function ```max_of_three()``` that takes three numbers as arguments and returns the largest of them. Use the *if-then-else* construct available in Python.\n",
    "\n",
    "(Credits:  [Thorbjoern Lager](https://www.gu.se/english/about_the_university/staff/?languageId=100001&userId=xlagto))"
   ]
  },
  {
   "cell_type": "code",
   "execution_count": 21,
   "metadata": {},
   "outputs": [
    {
     "name": "stdout",
     "output_type": "stream",
     "text": [
      "Number1: 5\n",
      "Number2: 5\n",
      "number3: 6\n",
      "The maximum of the three is:  6\n"
     ]
    }
   ],
   "source": [
    "def max_of_three(x, y, z):\n",
    "    if (x > z and x > y):\n",
    "            return x\n",
    "    elif (y > x and y > z):\n",
    "            return y\n",
    "    elif (x == y and x > z):\n",
    "            return x\n",
    "    else:\n",
    "        return z\n",
    "    \n",
    "def check_int(num):\n",
    "    while True:\n",
    "        try:\n",
    "            num = int(num)\n",
    "            break\n",
    "        except:\n",
    "            num = input(\"Enter the number(integer values only): \")\n",
    "\n",
    "num1 = input(\"Number1: \")\n",
    "check_int(num1)\n",
    "num2 = input(\"Number2: \")\n",
    "check_int(num2)\n",
    "num3 = input(\"number3: \")\n",
    "check_int(num3)\n",
    "maximum = max_of_three(num1, num2, num3)\n",
    "print(\"The maximum of the three is: \", maximum)"
   ]
  },
  {
   "cell_type": "markdown",
   "metadata": {},
   "source": [
    "### 3 - Maximum of many"
   ]
  },
  {
   "cell_type": "markdown",
   "metadata": {},
   "source": [
    "Define a function ```listMax()``` that takes a list as an argument and returns a tuple with the maximum value and its index in the list.\n",
    "\n",
    "(Credits:  [Thorbjoern Lager](https://www.gu.se/english/about_the_university/staff/?languageId=100001&userId=xlagto), adapted)"
   ]
  },
  {
   "cell_type": "code",
   "execution_count": 28,
   "metadata": {},
   "outputs": [
    {
     "name": "stdout",
     "output_type": "stream",
     "text": [
      "(15, 8)\n"
     ]
    }
   ],
   "source": [
    "def listMax(list):\n",
    "    demo = list[0]\n",
    "    for x in list:\n",
    "        for y in range(0, len(list)):\n",
    "            if (demo < list[y]):\n",
    "                demo = list[y]\n",
    "                pos = y+1\n",
    "    value = (demo, pos)\n",
    "    return value\n",
    "        \n",
    "list = [4, 7, 8, 9, 7, 9, 10, 15, 12, 2]\n",
    "value = listMax(list)\n",
    "print(value)\n",
    "\n"
   ]
  },
  {
   "cell_type": "markdown",
   "metadata": {},
   "source": [
    "### 4 - Roll your own"
   ]
  },
  {
   "cell_type": "markdown",
   "metadata": {},
   "source": [
    "Take the three functions you coded above and put them in a file called ```mymax.py``` to make a module. Then try writing a simple program that starts with \n",
    "```\n",
    "import mymax\n",
    "```\n",
    "and calls the functions you wrote as ```mymax.max_of_three()```, etc."
   ]
  },
  {
   "cell_type": "code",
   "execution_count": 31,
   "metadata": {},
   "outputs": [
    {
     "name": "stdout",
     "output_type": "stream",
     "text": [
      "Enter num1: 4\n",
      "Enter num2: 7\n",
      "Enter num3: 7\n",
      "The maximum value is:  7\n"
     ]
    }
   ],
   "source": [
    "import mymax\n",
    "def check_int(num):\n",
    "    while True:\n",
    "        try:\n",
    "            num = int(num)\n",
    "            break\n",
    "        except:\n",
    "            num = input(\"Integer Value only: \")\n",
    "num1 = input(\"Enter num1: \")\n",
    "check_int(num1)\n",
    "num2 = input(\"Enter num2: \")\n",
    "check_int(num2)\n",
    "num3 = input(\"Enter num3: \")\n",
    "check_int(num3)\n",
    "\n",
    "maximum = mymax.max_of_three(num1, num2, num3)\n",
    "print(\"The maximum value is: \", maximum)"
   ]
  },
  {
   "cell_type": "markdown",
   "metadata": {},
   "source": [
    "### 5 - Histogram"
   ]
  },
  {
   "cell_type": "markdown",
   "metadata": {},
   "source": [
    "Define a procedure ```histogram()``` that takes a list of integers and prints a histogram to the screen. For example, ```histogram([4, 9, 7])``` should print the following:\n",
    "```\n",
    "####\n",
    "#########\n",
    "#######\n",
    "```\n",
    "**Note**: A procedure is a *function* that does not return any value, it simply *does* something.\n",
    "\n",
    "(Credits:  [Thorbjoern Lager](https://www.gu.se/english/about_the_university/staff/?languageId=100001&userId=xlagto))"
   ]
  },
  {
   "cell_type": "code",
   "execution_count": 32,
   "metadata": {},
   "outputs": [
    {
     "name": "stdout",
     "output_type": "stream",
     "text": [
      "#####\n",
      "######\n",
      "#######\n"
     ]
    }
   ],
   "source": [
    "def histogram(list):\n",
    "    for i in list:\n",
    "        print(\"#\"*i)\n",
    "\n",
    "histogram([5, 6, 7])"
   ]
  },
  {
   "cell_type": "markdown",
   "metadata": {},
   "source": [
    "### 6 - Got it all backwards"
   ]
  },
  {
   "cell_type": "markdown",
   "metadata": {},
   "source": [
    "Define a function ```reverse()``` that takes a string as an argument and returns it reversed. For instance,   ```reverse(\"I am testing\")``` should return the string \"gnitset ma I\".\n",
    "\n",
    "\n",
    "(Credits:  [Thorbjoern Lager](https://www.gu.se/english/about_the_university/staff/?languageId=100001&userId=xlagto))"
   ]
  },
  {
   "cell_type": "code",
   "execution_count": 37,
   "metadata": {},
   "outputs": [
    {
     "name": "stdout",
     "output_type": "stream",
     "text": [
      "tioR si eman yM\n"
     ]
    }
   ],
   "source": [
    "def reverse(string):\n",
    "    new = \"\"\n",
    "    for i in range(len(string) - 1, -1, -1):\n",
    "        new += string[i]\n",
    "    return new\n",
    "\n",
    "print(reverse(\"My name is Roit\"))\n",
    "        "
   ]
  },
  {
   "cell_type": "markdown",
   "metadata": {},
   "source": [
    "### 7 - Palindromes"
   ]
  },
  {
   "cell_type": "markdown",
   "metadata": {},
   "source": [
    "A palindrome is a word or sentence that is unaltered when read backwards.\n",
    "\n",
    "Write a palindrome recognizer ```isPalindrome()``` that accepts phrase palindromes such as \"Go hang a salami I'm a lasagna hog.\", \"Was it a rat I saw?\", \"Step on no pets\", \"Sit on a potato pan, Otis\", \"Lisa Bonet ate no basil\", \"Satan, oscillate my metallic sonatas\", \"I roamed under it as a tired nude Maori\", \"Rise to vote sir\", or the exclamation \"Dammit, I'm mad!\". Note that punctuation, capitalization, and spacing are usually ignored. \n",
    "\n",
    "Your function should return ```True``` for palindromes and ```False``` otherwise. Your function should also use the ```reverse()``` function that you just programmed to do its job.\n",
    "\n",
    "(Credits:  [Thorbjoern Lager](https://www.gu.se/english/about_the_university/staff/?languageId=100001&userId=xlagto))"
   ]
  },
  {
   "cell_type": "code",
   "execution_count": 55,
   "metadata": {},
   "outputs": [
    {
     "data": {
      "text/plain": [
       "False"
      ]
     },
     "execution_count": 55,
     "metadata": {},
     "output_type": "execute_result"
    }
   ],
   "source": [
    "def isPalindrome(string1, string2):\n",
    "    string1_lower = string1.lower()\n",
    "    string2_lower = string2.lower()\n",
    "    if reverse(''.join(string1_lower.split())) == ''.join(string2_lower.split()):\n",
    "        return True\n",
    "    else:\n",
    "        return False\n",
    "    \n",
    "isPalindrome(\"Namanq\", \"Naman\")"
   ]
  },
  {
   "cell_type": "markdown",
   "metadata": {},
   "source": [
    "### 8 - Default arguments and calling styles"
   ]
  },
  {
   "cell_type": "markdown",
   "metadata": {},
   "source": [
    "Try calling the procedure below in the following ways, that are all legal, and see what happens:\n",
    "```\n",
    "aProc(\"eggs\", \"bacon\") # specify both arguments (the usual way)\n",
    "aProc() # use default values\n",
    "aProc(\"goo\") # only specifies first argument\n",
    "aProc(second=\"more spam\") # only specifies second argument\n",
    "pet=[\"Humpty\", \"Dumpty\"]\n",
    "aProc(*pet) # both arguments as a list \n",
    "meg_and_mog={'first': 'Meg', 'second': 'Mog'} \n",
    "aProc(**meg_and_mog) # both arguments as a dictionary\n",
    "```"
   ]
  },
  {
   "cell_type": "code",
   "execution_count": null,
   "metadata": {},
   "outputs": [],
   "source": []
  },
  {
   "cell_type": "markdown",
   "metadata": {},
   "source": [
    "### 9 - Lingo"
   ]
  },
  {
   "cell_type": "markdown",
   "metadata": {},
   "source": [
    "\n",
    "\n",
    "In a game of Lingo, there is a hidden word, five characters long. The object of the game is to find this word by guessing, and in return receive two kinds of clues:\n",
    "1. the characters that are fully correct, with respect to identity as well as to position, and\n",
    "2. the characters that are indeed present in the word, but which are placed in the wrong position.\n",
    "\n",
    "Write a program with which one can play Lingo. Use square brackets (**[ ]**) to mark characters correct in the sense of clue **1**, and ordinary parentheses (**( )**) to mark characters correct in the sense of clue **2**. For the sake of the exercise, your program should pass each character in the user input to a function that \"packages\" it in brackets (or not). In turn, this should use two separate functions to check if either clue **1** or clue **2** apply.\n",
    "\n",
    "Assuming, for example, that the program conceals the word \"tiger\", you should be able to interact with it in the following way:\n",
    "\n",
    "```\n",
    "snake\n",
    "Clue: snak(e)\n",
    "least\n",
    "Clue: l(e)as(t)\n",
    "times\n",
    "Clue: [t][i]m[e]s\n",
    "tiger\n",
    "Clue: [t][i][g][e][r]\n",
    "```\n",
    "\n",
    "(Credits:  [Thorbjoern Lager](https://www.gu.se/english/about_the_university/staff/?languageId=100001&userId=xlagto))"
   ]
  },
  {
   "cell_type": "code",
   "execution_count": null,
   "metadata": {},
   "outputs": [],
   "source": []
  },
  {
   "cell_type": "markdown",
   "metadata": {},
   "source": [
    "### 10 - Chicken out"
   ]
  },
  {
   "cell_type": "markdown",
   "metadata": {},
   "source": [
    "You now have all the tools and the knowledge to do fairly complex things. Try this one: download the entire chicken proteome from \n",
    "```\n",
    "ftp://ftp.uniprot.org/pub/databases/uniprot/current_release/knowledgebase/reference_proteomes/Eukaryota/\n",
    "```\n",
    "*Gallus gallus* is entry ```U000000539_*.fasta.gz```, where ```*``` stands for the current revision number. Download the file, unzip it using ```gunzip``` and rename it ```CHICK.fasta``` for convenience.\n",
    "\n",
    "The file contains all chicken proteins listed one after the other in the FASTA format (try viewing part of it with the command ```more CHICK.fasta```).\n",
    "\n",
    "Write a program that computes the average length of a chicken  protein and the frequency of the various aminoacids in the chicken genome (that you can print out as a nice histogram if you want). You can recycle bits and pieces of code written so far, packaging them into separate functions or possibly even a module. Keep in mind that chicken proteins are listed one after the other in the same file, so you should stop reading a protein sequence when a new header is found (instead than when the file finishes), without closing the file. Do not attempt to read the entire file in one go; process it line by line.\n"
   ]
  },
  {
   "cell_type": "code",
   "execution_count": null,
   "metadata": {},
   "outputs": [],
   "source": []
  }
 ],
 "metadata": {
  "kernelspec": {
   "display_name": "Python 3",
   "language": "python",
   "name": "python3"
  },
  "language_info": {
   "codemirror_mode": {
    "name": "ipython",
    "version": 3
   },
   "file_extension": ".py",
   "mimetype": "text/x-python",
   "name": "python",
   "nbconvert_exporter": "python",
   "pygments_lexer": "ipython3",
   "version": "3.8.5"
  }
 },
 "nbformat": 4,
 "nbformat_minor": 1
}
